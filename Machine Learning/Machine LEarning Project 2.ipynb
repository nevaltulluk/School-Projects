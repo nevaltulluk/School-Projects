{
 "cells": [
  {
   "cell_type": "markdown",
   "metadata": {
    "colab_type": "text",
    "id": "TUkyNNPWTBPJ"
   },
   "source": [
    "## CMPE 462 HOMEWORK 2\n"
   ]
  },
  {
   "cell_type": "code",
   "execution_count": 1,
   "metadata": {
    "colab": {},
    "colab_type": "code",
    "id": "yoISMLx4TBPL"
   },
   "outputs": [],
   "source": [
    "# Allowed Libraries\n",
    "import numpy as np\n",
    "import matplotlib.pyplot as plt\n",
    "from sklearn.discriminant_analysis import LinearDiscriminantAnalysis"
   ]
  },
  {
   "cell_type": "markdown",
   "metadata": {
    "colab_type": "text",
    "id": "D0LRt7BwTBPQ"
   },
   "source": [
    "# Part 1: Dimensionality Reduction"
   ]
  },
  {
   "cell_type": "markdown",
   "metadata": {
    "colab_type": "text",
    "id": "vg75m6bRTBPS"
   },
   "source": [
    "# A: Creating Datasets\n",
    "Steps:\n",
    "* Generate 500 points from $\\frac{x^2}{2^2}+ \\frac{y^2}{5^2} \\le 1$(From ellipse with 2, 5 radius on the x and y axes respectively). Example way:\n",
    "    - Generate 500 angle values $\\{\\theta^t\\}$ in range $[-\\pi,+\\pi]$\n",
    "    - Generate 500 values $\\{r^t\\}$ in range $[0,1]$\n",
    "    - Generate 500 points $\\{x^t,y^t\\}$ where $x^t = 2r^tsin(\\theta^t)$ and $y^t = 5r^tcos(\\theta^t)$.\n",
    "* Generate 3 set of labels. Do it by dividing data using following Lines (eg. one side of line is label 0, other side is label 1)\n",
    "    - $y=0$ line\n",
    "    - $x=0$ line \n",
    "    - $y=3x +1$ line \n",
    "* Visualize points with each set of labels in subplots with 1 row, 3 columns where each column corresponds to one set of labels. (Use different colors for each label.)  "
   ]
  },
  {
   "cell_type": "code",
   "execution_count": 2,
   "metadata": {
    "colab": {
     "base_uri": "https://localhost:8080/",
     "height": 286
    },
    "colab_type": "code",
    "id": "cpdtUZUDTBPT",
    "outputId": "c2f89696-a586-4b02-8dde-7ef633203d73"
   },
   "outputs": [
    {
     "data": {
      "text/plain": [
       "[<matplotlib.lines.Line2D at 0x22a7f1ea9e8>]"
      ]
     },
     "execution_count": 2,
     "metadata": {},
     "output_type": "execute_result"
    },
    {
     "data": {
      "image/png": "[encoded data removed]",
      "text/plain": [
       "<Figure size 432x288 with 3 Axes>"
      ]
     },
     "metadata": {
      "needs_background": "light"
     },
     "output_type": "display_data"
    }
   ],
   "source": [
    "theta = np.random.uniform(-np.pi,np.pi,500)\n",
    "r = np.random.uniform(0,1,500)\n",
    "datax = []\n",
    "datay = []\n",
    "for i in range (0,500):\n",
    "    x = 2*r[i]*np.sin(theta[i])\n",
    "    y = 5*r[i]*np.cos(theta[i])\n",
    "    datax.insert(i,x)\n",
    "    datay.insert(i,y)\n",
    "\n",
    "\n",
    "set1ax = []\n",
    "set1bx = []\n",
    "set2ax = []\n",
    "set2bx = []\n",
    "set3ax = []\n",
    "set3bx = []\n",
    "set1ay = []\n",
    "set1by = []\n",
    "set2ay = []\n",
    "set2by = []\n",
    "set3ay = []\n",
    "set3by = []\n",
    "for i in range(0,500):\n",
    "    x = datax[i]\n",
    "    y = datay[i]\n",
    "    \n",
    "    if(y < 0):\n",
    "        set1ax.insert(i,datax[i])\n",
    "        set1ay.insert(i,datay[i])\n",
    "    else:\n",
    "        set1bx.insert(i,datax[i])\n",
    "        set1by.insert(i,datay[i])\n",
    "    \n",
    "    if(x < 0):\n",
    "        set2ax.insert(i,datax[i])\n",
    "        set2ay.insert(i,datay[i])\n",
    "    else:\n",
    "        set2bx.insert(i,datax[i])\n",
    "        set2by.insert(i,datay[i])\n",
    "    if(y < 3*x+1):\n",
    "        set3ax.insert(i,datax[i])\n",
    "        set3ay.insert(i,datay[i])\n",
    "    else:\n",
    "        set3bx.insert(i,datax[i])\n",
    "        set3by.insert(i,datay[i])\n",
    "\n",
    "plt.subplot(1,3,1)\n",
    "plt.plot(set1ax,set1ay,'ro',markersize=2)\n",
    "plt.plot(set1bx,set1by,'bo',markersize=2)\n",
    "plt.subplot(1,3,2)\n",
    "plt.plot(set2ax,set2ay,'ro',markersize=2)\n",
    "plt.plot(set2bx,set2by,'bo',markersize=2)\n",
    "plt.subplot(1,3,3)\n",
    "plt.plot(set3ax,set3ay,'ro',markersize=2)\n",
    "plt.plot(set3bx,set3by,'bo',markersize=2)"
   ]
  },
  {
   "cell_type": "markdown",
   "metadata": {
    "colab_type": "text",
    "id": "9zsQc1mKTBPW"
   },
   "source": [
    "# B: Applying PCA\n",
    "Steps:\n",
    "* Write PCA function.\n",
    "* Apply PCA to data you generated.\n",
    "* Visualize each set of labels using first principle component. \n",
    "* Visualize each set of labels using second principle component. "
   ]
  },
  {
   "cell_type": "code",
   "execution_count": 3,
   "metadata": {
    "colab": {},
    "colab_type": "code",
    "id": "NDjiB35DTBPY"
   },
   "outputs": [],
   "source": [
    "def PCA(data_x1,data_y1,data_x2,data_y2):\n",
    "    \n",
    "    data_x = data_x1 + data_x2\n",
    "    data_y = data_y1 + data_y2\n",
    "    \n",
    "    S = np.cov(data_x,data_y)\n",
    "    S1 = np.matrix(S)\n",
    "    w, v = np.linalg.eig(S1)\n",
    "\n",
    "    firstPCA1 = []\n",
    "    secondPCA1 = []\n",
    "    firstPCA2 = []\n",
    "    secondPCA2 = []\n",
    "    if(w[0] > w[1]):\n",
    "        for i in range (0,len(data_x1)):\n",
    "            tempx = v[0,0]*data_x1[i]\n",
    "            tempy = v[0,1]*data_y1[i]\n",
    "            temp = tempx+tempy\n",
    "            firstPCA1.insert(i,temp)\n",
    "            tempx2 = v[1,0]*data_x1[i]\n",
    "            tempy2= v[1,1]*data_y1[i]\n",
    "            temp2 = tempx2+tempy2\n",
    "            secondPCA1.insert(i,temp2)\n",
    "        for i in range (0,len(data_x2)):\n",
    "            tempx = v[0,0]*data_x2[i]\n",
    "            tempy = v[0,1]*data_y2[i]\n",
    "            temp = tempx+tempy\n",
    "            firstPCA2.insert(i,temp)\n",
    "            tempx2 = v[1,0]*data_x2[i]\n",
    "            tempy2= v[1,1]*data_y2[i]\n",
    "            temp2 = tempx2+tempy2\n",
    "            secondPCA2.insert(i,temp2)\n",
    "    else:\n",
    "        for i in range (0,len(data_x1)):\n",
    "            tempx = v[1,0]*data_x1[i]\n",
    "            tempy = v[1,1]*data_y1[i]\n",
    "            temp = tempx+tempy\n",
    "            firstPCA1.insert(i,temp)\n",
    "            tempx2 = v[0,0]*data_x1[i]\n",
    "            tempy2= v[0,1]*data_y1[i]\n",
    "            temp2 = tempx2+tempy2\n",
    "            secondPCA1.insert(i,temp2)\n",
    "        for i in range (0,len(data_x2)):\n",
    "            tempx = v[1,0]*data_x2[i]\n",
    "            tempy = v[1,1]*data_y2[i]\n",
    "            temp = tempx+tempy\n",
    "            firstPCA2.insert(i,temp)\n",
    "            tempx2 = v[0,0]*data_x2[i]\n",
    "            tempy2= v[0,1]*data_y2[i]\n",
    "            temp2 = tempx2+tempy2\n",
    "            secondPCA2.insert(i,temp2)\n",
    "            \n",
    "    return firstPCA1, secondPCA1, firstPCA2,secondPCA2\n",
    "\n"
   ]
  },
  {
   "cell_type": "code",
   "execution_count": 4,
   "metadata": {
    "colab": {},
    "colab_type": "code",
    "id": "a1lEyvr003bn"
   },
   "outputs": [
    {
     "data": {
      "text/plain": [
       "[<matplotlib.lines.Line2D at 0x22a7f48e940>]"
      ]
     },
     "execution_count": 4,
     "metadata": {},
     "output_type": "execute_result"
    },
    {
     "data": {
      "image/png": "[encoded data removed]",
      "text/plain": [
       "<Figure size 432x288 with 2 Axes>"
      ]
     },
     "metadata": {
      "needs_background": "light"
     },
     "output_type": "display_data"
    },
    {
     "data": {
      "image/png": "[encoded data removed]",
      "text/plain": [
       "<Figure size 432x288 with 2 Axes>"
      ]
     },
     "metadata": {
      "needs_background": "light"
     },
     "output_type": "display_data"
    },
    {
     "data": {
      "image/png": "[encoded data removed]",
      "text/plain": [
       "<Figure size 432x288 with 2 Axes>"
      ]
     },
     "metadata": {
      "needs_background": "light"
     },
     "output_type": "display_data"
    }
   ],
   "source": [
    "\n",
    "firstof11, secondof11, firstof12, secondof12 = PCA(set1ax,set1ay,set1bx,set1by)\n",
    "x1 = np.linspace(0,0.15,len(firstof11))\n",
    "x2 = np.linspace(0,0.15,len(firstof12))\n",
    "plt.figure()\n",
    "plt.subplot(1,2,1)\n",
    "plt.ylim(-2,2)\n",
    "plt.plot(firstof11,x1,'ro',markersize=2)\n",
    "plt.plot(firstof12,x2,'bo',markersize=2)\n",
    "\n",
    "\n",
    "x1 = np.linspace(0,0.15,len(secondof11))\n",
    "x2 = np.linspace(0,0.15,len(secondof12))\n",
    "plt.subplot(1,2,2)\n",
    "plt.ylim(-2,2)\n",
    "plt.plot(secondof11,x1,'ro',markersize=2)\n",
    "plt.plot(secondof12,x2,'bo',markersize=2)\n",
    "\n",
    "plt.figure()\n",
    "firstof21, secondof21, firstof22, secondof22 = PCA(set2ax,set2ay,set2bx,set2by)\n",
    "x1 = np.linspace(0,0.15,len(firstof21))\n",
    "x2 = np.linspace(0,0.15,len(firstof22))\n",
    "plt.subplot(1,2,1)\n",
    "plt.ylim(-2,2)\n",
    "plt.plot(firstof21,x1,'ro',markersize=2)\n",
    "plt.plot(firstof22,x2,'bo',markersize=2)\n",
    "\n",
    "x1 = np.linspace(0,0.15,len(secondof21))\n",
    "x2 = np.linspace(0,0.15,len(secondof22))\n",
    "plt.subplot(1,2,2)\n",
    "plt.ylim(-2,2)\n",
    "plt.plot(secondof21,x1,'ro',markersize=2)\n",
    "plt.plot(secondof22,x2,'bo',markersize=2)\n",
    "plt.figure()\n",
    "\n",
    "firstof31, secondof31, firstof32, secondof32 = PCA(set3ax,set3ay,set3bx,set3by)\n",
    "x1 = np.linspace(0,0.15,len(firstof31))\n",
    "x2 = np.linspace(0,0.15,len(firstof32))\n",
    "plt.subplot(1,2,1)\n",
    "plt.ylim(-2,2)\n",
    "plt.plot(firstof31,x1,'ro',markersize=2)\n",
    "plt.plot(firstof32,x2,'bo',markersize=2)\n",
    "\n",
    "x1 = np.linspace(0,0.15,len(secondof31))\n",
    "x2 = np.linspace(0,0.15,len(secondof32))\n",
    "plt.subplot(1,2,2)\n",
    "plt.ylim(-2,2)\n",
    "plt.plot(secondof31,x1,'ro',markersize=2)\n",
    "plt.plot(secondof32,x2,'bo',markersize=2)"
   ]
  },
  {
   "cell_type": "markdown",
   "metadata": {
    "colab_type": "text",
    "id": "GS1Hw4nRTBPa"
   },
   "source": [
    "# C: Applying LDA\n",
    "Steps:\n",
    "* Apply LDA(https://scikit-learn.org/stable/modules/lda_qda.html) to data for each label set. You can use sklearn implementation.\n",
    "* Visualize each set of labels using first component of corresponding LDA. "
   ]
  },
  {
   "cell_type": "code",
   "execution_count": 5,
   "metadata": {
    "colab": {
     "base_uri": "https://localhost:8080/",
     "height": 151
    },
    "colab_type": "code",
    "id": "GBYx_n6jTBPb",
    "outputId": "ff5003af-19e7-4d0d-8520-954c9547ff99"
   },
   "outputs": [],
   "source": [
    "# def LDA(L1x,L1y,L2x,L2y):\n",
    "#     mean_x = [np.mean(L1x),np.mean(L2x)]\n",
    "#     mean_y = [np.mean(L1y),np.mean(L2y)]\n",
    "#     S = np.cov(L1x+L2x,L1y+L2y)\n",
    "#     S1 = np.matrix(S)\n",
    "#     w, v = np.linalg.eig(S1)\n",
    "#     sqrtD = np.diag(np.sqrt(w))\n",
    "#     LDAmat = np.matmul(sqrtD,v)\n",
    "#     L1xy = [[],[]]\n",
    "#     L2xy = [[],[]]\n",
    "#     for i in range(0,len(L1y)):\n",
    "#         L1xy[0].insert(i,L1x[i])\n",
    "#         L1xy[1].insert(i,L1y[i])\n",
    "#     for i in range(0,len(L2y)):\n",
    "#         L2xy[0].insert(i,L2x[i])\n",
    "#         L2xy[1].insert(i,L2y[i])\n",
    "#     Projected1 = np.matmul(LDAmat, L1xy)\n",
    "#     Projected2 = np.matmul(LDAmat, L2xy)       \n",
    "#     return Projected1 , Projected2"
   ]
  },
  {
   "cell_type": "code",
   "execution_count": 6,
   "metadata": {},
   "outputs": [],
   "source": [
    "# Projected11 ,Projected12 = LDA(set1ax,set1ay,set1bx,set1by)\n",
    "# Projected21 ,Projected22 = LDA(set2ax,set2ay,set2bx,set2by)\n",
    "# Projected31 ,Projected32 = LDA(set3ax,set3ay,set3bx,set3by)\n",
    "# plt.subplot(1,3,1)\n",
    "# plt.plot(Projected11[0],Projected11[1],'ro', markersize = 2)\n",
    "# plt.plot(Projected12[0],Projected12[1],'bo', markersize = 2)\n",
    "# plt.subplot(1,3,2)\n",
    "# plt.plot(Projected21[0],Projected21[1],'ro', markersize = 2)\n",
    "# plt.plot(Projected22[0],Projected22[1],'bo', markersize = 2)\n",
    "# plt.subplot(1,3,3)\n",
    "# plt.plot(Projected31[0],Projected31[1],'ro', markersize = 2)\n",
    "# plt.plot(Projected32[0],Projected32[1],'bo', markersize = 2)\n",
    "# plt.ylabel('')"
   ]
  },
  {
   "cell_type": "code",
   "execution_count": 7,
   "metadata": {},
   "outputs": [
    {
     "data": {
      "text/plain": [
       "[<matplotlib.lines.Line2D at 0x22a7fcf6f28>]"
      ]
     },
     "execution_count": 7,
     "metadata": {},
     "output_type": "execute_result"
    },
    {
     "data": {
      "image/png": "[encoded data removed]",
      "text/plain": [
       "<Figure size 432x288 with 1 Axes>"
      ]
     },
     "metadata": {
      "needs_background": "light"
     },
     "output_type": "display_data"
    }
   ],
   "source": [
    "lda = LinearDiscriminantAnalysis(solver = 'eigen', n_components=1)\n",
    "L1xy = []\n",
    "L2xy = []\n",
    "y = []\n",
    "for i in range(0,len(set1ax)):\n",
    "    xt = set1ax[i]\n",
    "    yt = set1ay[i]\n",
    "    L1xy.insert(i,[xt,yt])\n",
    "    y.insert(i,1)\n",
    "for i in range(0,len(set1bx)):\n",
    "    xt = set1bx[i]\n",
    "    yt = set1by[i]\n",
    "    L2xy.insert(i,[xt,yt])\n",
    "    y.insert(i,2)\n",
    "    \n",
    "X = L1xy+L2xy\n",
    "X_r2= lda.fit(X, y).transform(X)\n",
    "C1 = []\n",
    "C2 = []\n",
    "for i in range(len(X_r2)):\n",
    "    if(y[i] < 2):\n",
    "        C1.append(X_r2[i])\n",
    "        #C2.append(None)\n",
    "    else:\n",
    "        C2.append(X_r2[i])\n",
    "        #C1.append(None)\n",
    "\n",
    "\n",
    "a1 = np.linspace(-6,6,len(C2))\n",
    "a2 = np.linspace(-6,6,len(C1))\n",
    "\n",
    "plt.plot(C1 , a2 , 'ro' ,markersize = 2)\n",
    "plt.plot(C2 , a1 , 'bo' ,markersize = 2)\n"
   ]
  },
  {
   "cell_type": "code",
   "execution_count": null,
   "metadata": {},
   "outputs": [],
   "source": []
  },
  {
   "cell_type": "code",
   "execution_count": null,
   "metadata": {},
   "outputs": [],
   "source": []
  },
  {
   "cell_type": "markdown",
   "metadata": {
    "colab_type": "text",
    "id": "mlP-37rWTBPe"
   },
   "source": [
    "# D: Nonlinear Data\n",
    "Steps:\n",
    "* Use generated data below.\n",
    "* Apply PCA and LDA to this data, and visualize it(seperately)."
   ]
  },
  {
   "cell_type": "code",
   "execution_count": 8,
   "metadata": {
    "colab": {
     "base_uri": "https://localhost:8080/",
     "height": 269
    },
    "colab_type": "code",
    "id": "r5nwdotUTBPf",
    "outputId": "3b51a483-8544-4506-b713-e67da8d9f7c3"
   },
   "outputs": [
    {
     "data": {
      "text/plain": [
       "(-2, 2)"
      ]
     },
     "execution_count": 8,
     "metadata": {},
     "output_type": "execute_result"
    },
    {
     "data": {
      "image/png": "[encoded data removed]",
      "text/plain": [
       "<Figure size 432x288 with 1 Axes>"
      ]
     },
     "metadata": {
      "needs_background": "light"
     },
     "output_type": "display_data"
    },
    {
     "data": {
      "image/png": "[encoded data removed]",
      "text/plain": [
       "<Figure size 432x288 with 1 Axes>"
      ]
     },
     "metadata": {
      "needs_background": "light"
     },
     "output_type": "display_data"
    }
   ],
   "source": [
    "def genData():\n",
    "    from sklearn.datasets import make_swiss_roll \n",
    "    n_samples = 1500\n",
    "    noise = 0.5\n",
    "    X, t = make_swiss_roll(n_samples, noise)\n",
    "    # Make it thinner\n",
    "    fig = plt.figure()\n",
    "    Data = np.zeros([1500,2])\n",
    "    Data[:,0] = X[:,0]\n",
    "    Data[:,1] = X[:,2]\n",
    "    Labels = np.zeros([1500,])\n",
    "    Labels[t>11]=1\n",
    "\n",
    "    plt.scatter(Data[Labels==1, 0], Data[Labels==1, 1],\n",
    "       s=20,)\n",
    "    plt.scatter(Data[Labels==0, 0], Data[Labels==0, 1],\n",
    "       s=20,)\n",
    "    return Data,Labels\n",
    "Data,Labels=genData()\n",
    "\n",
    "L1x = []\n",
    "L2x = []\n",
    "L1y = []\n",
    "L2y = []\n",
    "for i in range(0,len(Labels)):\n",
    "    if(Labels[i] == 0):\n",
    "        L1y.append(Data[i,1])\n",
    "        L1x.append(Data[i,0])\n",
    "    else:\n",
    "        L2y.append(Data[i,1])\n",
    "        L2x.append(Data[i,0])\n",
    "\n",
    "plt.figure()\n",
    "firstof11, secondof11, firstof12, secondof12 = PCA(L1x,L1y,L2x,L2y)\n",
    "x1 = np.linspace(0,0.2,len(firstof11))\n",
    "x2 = np.linspace(0,0.2,len(firstof12))\n",
    "plt.plot(secondof11,x1,'bo',markersize=5)\n",
    "plt.ylim(-2,2)\n",
    "plt.plot(secondof12,x2,'ro',markersize=5)\n",
    "plt.ylim(-2,2)"
   ]
  },
  {
   "cell_type": "code",
   "execution_count": 9,
   "metadata": {},
   "outputs": [
    {
     "data": {
      "text/plain": [
       "[<matplotlib.lines.Line2D at 0x22a7ff594a8>]"
      ]
     },
     "execution_count": 9,
     "metadata": {},
     "output_type": "execute_result"
    },
    {
     "data": {
      "image/png": "[encoded data removed]",
      "text/plain": [
       "<Figure size 432x288 with 1 Axes>"
      ]
     },
     "metadata": {
      "needs_background": "light"
     },
     "output_type": "display_data"
    }
   ],
   "source": [
    "X_r= lda.fit(Data, Labels).transform(Data)\n",
    "C1 = []\n",
    "C2 = []\n",
    "for i in range(len(X_r)):\n",
    "    if(Labels[i] < 1):\n",
    "        C1.append(X_r[i])\n",
    "        C2.append(None)\n",
    "    else:\n",
    "        C2.append(X_r[i])\n",
    "        C1.append(None)\n",
    "\n",
    "\n",
    "a2 = np.linspace(-10,15,len(X_r))\n",
    "plt.plot(C1 , a2 , 'ro' ,markersize = 2)\n",
    "plt.plot(C2 , a2 , 'bo' ,markersize = 2)"
   ]
  },
  {
   "cell_type": "markdown",
   "metadata": {
    "colab_type": "text",
    "id": "RH3FTq9CTBPk"
   },
   "source": [
    "# Part 2: Parametric and Non-Parametric Classification.\n",
    "\n",
    "Download points2d.dat from https://www.cmpe.boun.edu.tr/~emre/courses/cmpe462/material/hws/hw2/points2d.dat. The sample includes 6000 instances. Each instance is represented by a feature vector of 2 dimensions. The third column corresponds to the class (0/1/2) of the instance."
   ]
  },
  {
   "cell_type": "markdown",
   "metadata": {
    "colab_type": "text",
    "id": "W46-oiUTTBPl"
   },
   "source": [
    "## A: Mixture of Gaussians. \n",
    "\n",
    "Steps:\n",
    "* Implement mixture of gaussians.\n",
    "* Divide data to training and validation and test sets.\n",
    "* At training:\n",
    "    - Divide all data to their respective classes.\n",
    "    - Run mixture of gaussians with k=1,2,3 using different initial points (the general practice is to use k-means to initialize the means, you can use sklearn implementation of k-means). \n",
    "* At validation, select best model:\n",
    "    - Using validation data, select best number of gaussians for each class using prediction error.\n",
    "* On test set, report (for the best model):\n",
    "    - the number of Gaussians for class 0, 1 and 2,\n",
    "    - the prediction error, and\n",
    "    - the confusion matrix."
   ]
  },
  {
   "cell_type": "code",
   "execution_count": 10,
   "metadata": {},
   "outputs": [],
   "source": [
    "import urllib\n",
    "import requests\n",
    "from sklearn.cluster import KMeans\n",
    "import scipy.stats"
   ]
  },
  {
   "cell_type": "code",
   "execution_count": 11,
   "metadata": {},
   "outputs": [],
   "source": [
    "def iteration(arrdata, mean , cov, pi , k):\n",
    "    notConvergence = True\n",
    "    while notConvergence:\n",
    "            #E step\n",
    "        ric = []\n",
    "        for c in range(0,k):\n",
    "            for i in range (0,len(arrdata)):\n",
    "                temp = pi[c]*scipy.stats.multivariate_normal.pdf(arrdata[i],mean = mean[c], cov = cov[c])\n",
    "                norm = 0\n",
    "                for c2 in range (0,k):\n",
    "                    norm = norm + pi[c2]*scipy.stats.multivariate_normal.pdf(arrdata[i],mean = mean[c2], cov = cov[c2])\n",
    "                ric.insert(c*len(arrdata)+i,temp/norm)\n",
    "        #m step\n",
    "        mc = []\n",
    "        pi_new = []\n",
    "        mean_new = []\n",
    "        cov_new = []\n",
    "        for c in range(0,k):\n",
    "            tmpmc = 0\n",
    "            for i in range (0, len(arrdata)):\n",
    "                tmpmc = tmpmc + ric[c*len(arrdata)+i]\n",
    "            mc.append(tmpmc)\n",
    "        for c in range(0,k):\n",
    "            pi_new.append(mc[c]/sum(mc))\n",
    "            tmpmean0 = 0\n",
    "            tmpmean1 = 0\n",
    "\n",
    "            for i in range (0, len(arrdata)):\n",
    "                tmpmean0 = tmpmean0 + (ric[c*len(arrdata)+i]*arrdata[i][0])\n",
    "                tmpmean1 = tmpmean1 + (ric[c*len(arrdata)+i]*arrdata[i][1])\n",
    "            mean_new.append([tmpmean0/mc[c],tmpmean1/mc[c]])\n",
    "        for c in range (0,k):\n",
    "            tmpcov = []\n",
    "            temp = np.matrix([[0,0],[0,0]])\n",
    "            for i in range (0,len(arrdata)):\n",
    "                tempcov = np.multiply(ric[c*len(arrdata)+i],(np.transpose(np.matrix(np.subtract(arrdata[i],mean_new[c])))*np.matrix(np.subtract(arrdata[i],mean_new[c]))))\n",
    "                temp = np.add(temp,tempcov)\n",
    "            cov_new.append(np.divide(temp,mc[c]))\n",
    "        if(np.abs(mean[0][0]-mean_new[0][0])< 0.013 and np.abs(mean[0][1]-mean_new[0][1])< 0.013 and np.abs(mean[k-1][0]-mean_new[k-1][0])< 0.013 and np.abs(mean[k-1][1]-mean_new[k-1][1])< 0.013):\n",
    "            notConvergence = False\n",
    "            print(\"converged\")\n",
    "        else:\n",
    "            mean = mean_new \n",
    "            cov = cov_new\n",
    "            pi = pi_new\n",
    "            print(mean)\n",
    "            print(cov)\n",
    "            print(pi)\n",
    "            \n"
   ]
  },
  {
   "cell_type": "code",
   "execution_count": 12,
   "metadata": {
    "colab": {},
    "colab_type": "code",
    "id": "eAJoCMugTBPm"
   },
   "outputs": [],
   "source": [
    "\n",
    "url = \"https://www.cmpe.boun.edu.tr/~emre/courses/cmpe462/material/hws/hw2/points2d.dat\"\n",
    "username = 'cmpe--462'\n",
    "password = 'cmpe--462'\n",
    "r = requests.get(url, auth=(username, password))  \n",
    "data = r.content.decode(\"utf-8\").split('\\n')\n",
    "arrdata = []\n",
    "labels = []\n",
    "for i in range (0,len(data)-1):\n",
    "    temp = data[i].split(' ')\n",
    "    arrdata.append([float(temp[0]),float(temp[1])])\n",
    "    labels.append(temp[2])\n",
    "\n",
    "def MixtureOfGaussians(arrdata, labels, k):\n",
    "    kmeans = KMeans(n_clusters=k, random_state=0).fit(arrdata)\n",
    "    mean = kmeans.cluster_centers_\n",
    "    labels = kmeans.labels_\n",
    "    k_sets = [[],[],[],[]]\n",
    "        \n",
    "    for j in range (0,k):\n",
    "        for i in range (0,len(labels)):\n",
    "            if(labels[i] == j):\n",
    "                k_sets[j].append(arrdata[i])\n",
    "    cov = []\n",
    "    pi = []\n",
    "    x = []\n",
    "    y = []\n",
    "    \n",
    "    for j in range (0,k):\n",
    "        for i in range(0,len(k_sets[j])):\n",
    "            x.append(k_sets[j][i][0])\n",
    "            y.append(k_sets[j][i][1])\n",
    "        cov.append(np.cov(x,y))\n",
    "    for i in range (0,k):\n",
    "        pi.append(len(k_sets[i])/len(arrdata))\n",
    "    iteration(arrdata, mean , cov, pi , k)\n",
    "            \n"
   ]
  },
  {
   "cell_type": "code",
   "execution_count": 13,
   "metadata": {
    "scrolled": true
   },
   "outputs": [
    {
     "name": "stdout",
     "output_type": "stream",
     "text": [
      "[[-0.8399440870507184, 1.3661803448072622], [-3.37390539931193, -2.771995552913397]]\n",
      "[matrix([[7.31602795, 0.3726374 ],\n",
      "        [0.3726374 , 5.56504423]]), matrix([[7.13791352, 0.85457985],\n",
      "        [0.85457985, 8.53076628]])]\n",
      "[0.47445835159597266, 0.5255416484040274]\n",
      "[[-0.8630543535499157, 1.3560047828821604], [-3.3276385412479343, -2.720788781486414]]\n",
      "[matrix([[7.73951522, 0.81745295],\n",
      "        [0.81745295, 6.02818535]]), matrix([[6.93198535, 0.66838021],\n",
      "        [0.66838021, 8.33776423]])]\n",
      "[0.469041493867231, 0.530958506132769]\n",
      "[[-0.8905436183549541, 1.3291210744495785], [-3.2985874498826053, -2.6890848281159263]]\n",
      "[matrix([[7.92116818, 0.99142649],\n",
      "        [0.99142649, 6.21614776]]), matrix([[6.90347431, 0.69078463],\n",
      "        [0.69078463, 8.39187707]])]\n",
      "[0.4679903011064286, 0.5320096988935714]\n",
      "[[-0.9162530675752829, 1.3029382493327935], [-3.275528164459023, -2.6653066171895956]]\n",
      "[matrix([[8.03076732, 1.08762897],\n",
      "        [1.08762897, 6.3225425 ]]), matrix([[6.91614638, 0.75320599],\n",
      "        [0.75320599, 8.48480208]])]\n",
      "[0.4678902743595232, 0.5321097256404769]\n",
      "[[-0.9397168751833189, 1.2802561196949849], [-3.2554796622444155, -2.646351333961194]]\n",
      "[matrix([[8.11422316, 1.15633895],\n",
      "        [1.15633895, 6.39800966]]), matrix([[6.93755865, 0.81846107],\n",
      "        [0.81846107, 8.57254734]])]\n",
      "[0.4680243486991146, 0.5319756513008854]\n",
      "[[-0.961249559331125, 1.2610436247010401], [-3.237396162418767, -2.630920062545701]]\n",
      "[matrix([[8.18532274, 1.21187303],\n",
      "        [1.21187303, 6.45696739]]), matrix([[6.95955807, 0.87897388],\n",
      "        [0.87897388, 8.6479118 ]])]\n",
      "[0.4682254951788059, 0.531774504821194]\n",
      "[[-0.9812182187709528, 1.2448148738536817], [-3.2207619880612888, -2.618266221792878]]\n",
      "[matrix([[8.24908965, 1.2592234 ],\n",
      "        [1.2592234 , 6.50471859]]), matrix([[6.98013146, 0.93390095],\n",
      "        [0.93390095, 8.711277  ]])]\n",
      "[0.46845063282921606, 0.5315493671707839]\n",
      "[[-0.9999333830697532, 1.2310904841700174], [-3.2052513100778595, -2.6078819614301483]]\n",
      "[matrix([[8.30780947, 1.30064194],\n",
      "        [1.30064194, 6.54389737]]), matrix([[6.9989275 , 0.98386418],\n",
      "        [0.98386418, 8.7643105 ]])]\n",
      "[0.4686875326822481, 0.5313124673177518]\n",
      "[[-1.0176441650101462, 1.219471875156481], [-3.190629656947189, -2.5993930370879403]]\n",
      "[matrix([[8.36275891, 1.33742398],\n",
      "        [1.33742398, 6.57615347]]), matrix([[7.01604633, 1.02969074],\n",
      "        [1.02969074, 8.80863467]])]\n",
      "[0.4689324289737167, 0.5310675710262833]\n",
      "[[-1.0345495715853819, 1.2096381279734334], [-3.1767175125920337, -2.5925119456252257]]\n",
      "[matrix([[8.41476757, 1.37045103],\n",
      "        [1.37045103, 6.60266444]]), matrix([[7.03169236, 1.07212591],\n",
      "        [1.07212591, 8.84559907]])]\n",
      "[0.4691841387707572, 0.5308158612292428]\n",
      "[[-1.0508098273846829, 1.2013307115833847], [-3.163372925090124, -2.5870120544312436]]\n",
      "[matrix([[8.4644281 , 1.40038243],\n",
      "        [1.40038243, 6.62432749]]), matrix([[7.04607327, 1.1117883 ],\n",
      "        [1.1117883 , 8.87629081]])]\n",
      "[0.4694423726698513, 0.5305576273301487]\n",
      "[[-1.0665552662988316, 1.1943393787358978], [-3.150481388246202, -2.582711342766709]]\n",
      "[matrix([[8.51218778, 1.42773662],\n",
      "        [1.42773662, 6.6418503 ]]), matrix([[7.05937312, 1.14918201],\n",
      "        [1.14918201, 8.90158497]])]\n",
      "[0.4697071963582896, 0.5302928036417103]\n",
      "[[-1.081892960767617, 1.1884911787706975], [-3.1379492166489453, -2.5794614047255737]]\n",
      "[matrix([[8.55839502, 1.45293299],\n",
      "        [1.45293299, 6.65580315]]), matrix([[7.07174806, 1.1847182 ],\n",
      "        [1.1847182 , 8.9221918 ]])]\n",
      "[0.4699788353535307, 0.5300211646464693]\n",
      "[[-1.096911623551609, 1.1836422151284718], [-3.1256989233364685, -2.5771396756712024]]\n",
      "[matrix([[8.60332605, 1.47631705],\n",
      "        [1.47631705, 6.66665299]]), matrix([[7.08332883, 1.21873447],\n",
      "        [1.21873447, 8.93869385]])]\n",
      "[0.47025759247858967, 0.5297424075214102]\n",
      "[[-1.1116852488160351, 1.179671477004681], [-3.1136658797986496, -2.5756437715179588]]\n",
      "[matrix([[8.64720185, 1.49817734],\n",
      "        [1.49817734, 6.67478716]]), matrix([[7.09422462, 1.25151026],\n",
      "        [1.25151026, 8.95157399]])]\n",
      "[0.4705438070336312, 0.5294561929663687]\n",
      "[[-1.1262758392186174, 1.176476182838546], [-3.101795850642517, -2.5748872732519916]]\n",
      "[matrix([[8.69019959, 1.51875741],\n",
      "        [1.51875741, 6.6805308 ]]), matrix([[7.10452698, 1.28327855],\n",
      "        [1.28327855, 8.9612365 ]])]\n",
      "[0.4708378316469642, 0.5291621683530358]\n",
      "[[-1.1407354666827827, 1.1739682228341985], [-3.090043147266575, -2.574796529918317]]\n",
      "[matrix([[8.73246082, 1.53826473],\n",
      "        [1.53826473, 6.68415976]]), matrix([[7.1143131 , 1.31423479],\n",
      "        [1.31423479, 8.96802302]])]\n",
      "[0.47114001772312575, 0.5288599822768744]\n",
      "[[-1.1551078430401895, 1.1720714074062808], [-3.078369230019703, -2.575308196032663]]\n",
      "[matrix([[8.77409733, 1.5568774 ],\n",
      "        [1.5568774 , 6.68591049]]), matrix([[7.12364852, 1.3445436 ],\n",
      "        [1.3445436 , 8.97222487]])]\n",
      "[0.4714507055929708, 0.5285492944070292]\n",
      "[[-1.169429526890112, 1.1707193140472765], [-3.0667416406029546, -2.5763673088854353]]\n",
      "[matrix([[8.8151957 , 1.57474932],\n",
      "        [1.57474932, 6.68598763]]), matrix([[7.13258939, 1.37434398],\n",
      "        [1.37434398, 8.9740925 ]])]\n",
      "[0.47177021748037495, 0.528229782519625]\n",
      "[[-1.1837308584954378, 1.1698535845628775], [-3.0551331804312443, -2.5779257695452458]]\n",
      "[matrix([[8.85582074, 1.59201415],\n",
      "        [1.59201415, 6.68456999]]), matrix([[7.14118425, 1.40375325],\n",
      "        [1.40375325, 8.97384297]])]\n",
      "[0.4720988522814549, 0.5279011477185451]\n",
      "[[-1.1980366905011313, 1.169422565809905], [-3.043521273499701, -2.5799411304845403]]\n",
      "[matrix([[8.89601816, 1.60878841],\n",
      "        [1.60878841, 6.68181524]]), matrix([[7.14947547, 1.43287021],\n",
      "        [1.43287021, 8.97166591]])]\n",
      "[0.47243688158833896, 0.527563118411661]\n",
      "[[-1.2123669653717728, 1.1693802158234825], [-3.031887468008571, -2.5823756195573346]]\n",
      "[matrix([[8.93581679, 1.62517397],\n",
      "        [1.62517397, 6.67786365]]), matrix([[7.15750044, 1.46177756],\n",
      "        [1.46177756, 8.96772821]])]\n",
      "[0.47278454662832003, 0.5272154533716801]\n",
      "[[-1.2267371784284886, 1.1696852175126178], [-3.020217042010114, -2.585195348758792]]\n",
      "[matrix([[8.97523043, 1.64125992],\n",
      "        [1.64125992, 6.67284109]]), matrix([[7.16529253, 1.49054383],\n",
      "        [1.49054383, 8.96217794]])]\n",
      "[0.47314205592863284, 0.5268579440713671]\n",
      "[[-1.2411587566763504, 1.1703002565892033], [-3.0084986861983394, -2.5883696694311666]]\n",
      "[matrix([[9.01425941, 1.65712412],\n",
      "        [1.65712412, 6.66686144]]), matrix([[7.17288187, 1.51922498],\n",
      "        [1.51922498, 8.95514736]])]\n",
      "[0.47350958360126416, 0.526490416398736]\n",
      "[[-1.2556393771984349, 1.1711914308496376], [-2.9967242426833463, -2.591870645052203]]\n",
      "[matrix([[9.05289202, 1.67283437],\n",
      "        [1.67283437, 6.66002853]]), matrix([[7.18029596, 1.54786567],\n",
      "        [1.54786567, 8.94675559]])]\n",
      "[0.4738872681918662, 0.5261127318081338]\n",
      "[[-1.2701832440227248, 1.172327765545454], [-2.9848884828696667, -2.5956726195777238]]\n",
      "[matrix([[9.09110584, 1.68844942],\n",
      "        [1.68844942, 6.65243771]]), matrix([[7.18756021, 1.57650033],\n",
      "        [1.57650033, 8.93711066]])]\n",
      "[0.4742752120638748, 0.5257247879361251]\n",
      "[[-1.2847913385402598, 1.1736808151762537], [-2.972988910866647, -2.5997518642701856]]\n",
      "[matrix([[9.128869  , 1.7040197 ],\n",
      "        [1.7040197 , 6.64417713]]), matrix([[7.19469828, 1.60515411],\n",
      "        [1.60515411, 8.92631124]])]\n",
      "[0.4746734812998659, 0.5253265187001341]\n",
      "[[-1.2994616554174723, 1.1752243361819164], [-2.9610255815273443, -2.60408628955347]]\n",
      "[matrix([[9.16614145, 1.71958797],\n",
      "        [1.71958797, 6.63532871]]), matrix([[7.20173244, 1.63384372],\n",
      "        [1.63384372, 8.91444812]])]\n",
      "[0.4750821061016748, 0.5249178938983252]\n",
      "[[-1.3141894332678636, 1.176934018100768], [-2.949000924467796, -2.6086552110623584]]\n",
      "[matrix([[9.20287626, 1.73518986],\n",
      "        [1.73518986, 6.62596896]]), matrix([[7.20868374, 1.66257815],\n",
      "        [1.66257815, 8.90160538]])]\n",
      "[0.4755010816621597, 0.5244989183378402]\n",
      "[[-1.3289673869736451, 1.1787872630836065], [-2.9369195674097663, -2.6134391609727987]]\n",
      "[matrix([[9.23902088, 1.75085433],\n",
      "        [1.75085433, 6.6161696 ]]), matrix([[7.21557216, 1.69135941],\n",
      "        [1.69135941, 8.8878614 ]])]\n",
      "[0.4759303694676453, 0.5240696305323548]\n",
      "[[-1.3437859463894046, 1.1807630054191927], [-2.9247881540096685, -2.6184197371055715]]\n",
      "[matrix([[9.2745185 , 1.76660404],\n",
      "        [1.76660404, 6.60599806]]), matrix([[7.22241668, 1.7201832 ],\n",
      "        [1.7201832 , 8.87328969]])]\n",
      "[0.4763698989736383, 0.5236301010263618]\n"
     ]
    },
    {
     "name": "stdout",
     "output_type": "stream",
     "text": [
      "[[-1.3586335041746929, 1.1828415640899352], [-2.9126151530315543, -2.6235794833442685]]\n",
      "[matrix([[9.30930937, 1.7824558 ],\n",
      "        [1.7824558 , 6.5955178 ]]), matrix([[7.22923534, 1.74903961],\n",
      "        [1.74903961, 8.85795954]])]\n",
      "[0.47681956957994204, 0.523180430420058]\n",
      "[[-1.373496673686693, 1.1850045224525176], [-2.900410657306406, -2.6289017957166654]]\n",
      "[matrix([[9.34333213, 1.79842089],\n",
      "        [1.79842089, 6.58478863]]), matrix([[7.23604514, 1.77791378],\n",
      "        [1.77791378, 8.84193664]])]\n",
      "[0.4772792528170462, 0.5227207471829538]\n",
      "[[-1.3883605562366017, 1.1872346300116365], [-2.8881861723795885, -2.6343708491454723]]\n",
      "[matrix([[9.37652521, 1.81450547],\n",
      "        [1.81450547, 6.57386688]]), matrix([[7.24286202, 1.80678657],\n",
      "        [1.80678657, 8.82528349]])]\n",
      "[0.4777487946457242, 0.5222512053542759]\n",
      "[[-1.4032090156082484, 1.189515721990007], [-2.8759543960566307, -2.6399715404488275]]\n",
      "[matrix([[9.40882803, 1.83071097],\n",
      "        [1.83071097, 6.56280554]]), matrix([[7.24970074, 1.83563525],\n",
      "        [1.83563525, 8.80805983]])]\n",
      "[0.4782280177675389, 0.521771982232461]\n",
      "[[-1.4180249565913605, 1.1918326530361847], [-2.863728991177058, -2.6456894437092804]]\n",
      "[matrix([[9.44018231, 1.84703446],\n",
      "        [1.84703446, 6.55165439]]), matrix([[7.25657476, 1.86443415],\n",
      "        [1.86443415, 8.79032294]])]\n",
      "[0.4787167238465186, 0.5212832761534814]\n",
      "[[-1.4327906034296913, 1.194171241984113], [-2.8515243548384, -2.6515107746609283]]\n",
      "[matrix([[9.47053319, 1.86346914],\n",
      "        [1.86346914, 6.54046002]]), matrix([[7.26349614, 1.89315532],\n",
      "        [1.89315532, 8.77212792]])]\n",
      "[0.47921469555145585, 0.5207853044485441]\n",
      "[[-1.447487773546293, 1.196518225100184], [-2.8393553879315663, -2.65742236128432]]\n",
      "[matrix([[9.49983024, 1.88000472],\n",
      "        [1.88000472, 6.52926594]]), matrix([[7.27047536, 1.92176918],\n",
      "        [1.92176918, 8.75352783]])]\n",
      "[0.4797216983441056, 0.5202783016558943]\n",
      "[[-1.4620981416932108, 1.1988612157329466], [-2.8272372692122, -2.663411618342513]]\n",
      "[matrix([[9.52802841, 1.89662792],\n",
      "        [1.89662792, 6.51811261]]), matrix([[7.27752124, 1.95024511],\n",
      "        [1.95024511, 8.73457398]])]\n",
      "[0.4802374819592059, 0.5197625180407942]\n",
      "[[-1.4766034897673186, 1.2011886687176476], [-2.815185238220566, -2.6694665241347346]]\n",
      "[matrix([[9.55508869, 1.91332288],\n",
      "        [1.91332288, 6.5070375 ]]), matrix([[7.28464083, 1.97855203],\n",
      "        [1.97855203, 8.71531597]])]\n",
      "[0.4807617815465383, 0.5192382184534616]\n",
      "[[-1.4909859379093495, 1.2034898482791019], [-2.8032143911866587, -2.675575598264897]]\n",
      "[matrix([[9.58097878, 1.93007168],\n",
      "        [1.93007168, 6.49607514]]), matrix([[7.29183932, 2.0066589 ],\n",
      "        [2.0066589 , 8.69580182]])]\n",
      "[0.4812943184708524, 0.5187056815291476]\n",
      "[[-1.5052281531150713, 1.2057547985172148], [-2.791339493649036, -2.681727879703521]]\n",
      "[matrix([[9.60567343, 1.94685476],\n",
      "        [1.94685476, 6.48525725]]), matrix([[7.29912   , 2.03453525],\n",
      "        [2.03453525, 8.67607809]])]\n",
      "[0.48183480079046026, 0.5181651992095399]\n",
      "[[-1.519313532377189, 1.2079743158438143], [-2.7795748129148152, -2.687912904843317]]\n",
      "[matrix([[9.62915472, 1.96365134],\n",
      "        [1.96365134, 6.47461276]]), matrix([[7.30648423, 2.06215151],\n",
      "        [2.06215151, 8.65618992]])]\n",
      "[0.48238292345772493, 0.517617076542275]\n",
      "[[-1.533226358283911, 1.2101399229663203], [-2.7679339727496153, -2.6941206855934245]]\n",
      "[matrix([[9.6514121 , 1.98043987],\n",
      "        [1.98043987, 6.46416795]]), matrix([[7.31393149, 2.08947943],\n",
      "        [2.08947943, 8.63618105]])]\n",
      "[0.48293836830280434, 0.5170616316971957]\n",
      "[[-1.5469519259564095, 1.2122438441811554], [-2.7564298318635414, -2.7003416878172644]]\n",
      "[matrix([[9.67244231, 1.99719837],\n",
      "        [1.99719837, 6.45394656]]), matrix([[7.32145938, 2.11649235],\n",
      "        [2.11649235, 8.61609389]])]\n",
      "[0.48350080387491395, 0.516499196125086]\n",
      "[[-1.5604766411545001, 1.2142789818522293], [-2.7450743869119503, -2.706566810587406]]\n",
      "[matrix([[9.69224918, 2.0139048 ],\n",
      "        [2.0139048 , 6.44396988]]), matrix([[7.32906376, 2.14316538],\n",
      "        [2.14316538, 8.59596947]])]\n",
      "[0.484069885222338, 0.515930114777662]\n",
      "[[-1.573788090262266, 1.216238894013131], [-2.7338786999070157, -2.712787366811947]]\n",
      "[matrix([[9.71084323, 2.03053735],\n",
      "        [2.03053735, 6.43425693]]), matrix([[7.3367388 , 2.16947564],\n",
      "        [2.16947564, 8.57584749]])]\n",
      "[0.4846452536933172, 0.5153547463066828]\n",
      "[[-1.5868750836400836, 1.2181177730538213], [-2.722852849186838, -2.718995065788593]]\n",
      "[matrix([[9.72824127, 2.04707472],\n",
      "        [2.04707472, 6.42482453]]), matrix([[7.34447719, 2.19540229],\n",
      "        [2.19540229, 8.55576626]])]\n",
      "[0.48522653683546024, 0.5147734631645396]\n",
      "converged\n"
     ]
    }
   ],
   "source": [
    "MixtureOfGaussians(arrdata, labels, 2)"
   ]
  },
  {
   "cell_type": "markdown",
   "metadata": {
    "colab_type": "text",
    "id": "Ynoko7LDTBPo"
   },
   "source": [
    "## B: K-Nearest Neighbor\n",
    "Steps:\n",
    "* Implement k-nearest neighbor. \n",
    "* Run it with k=1,10,40. \n",
    "* Using test set, Report\n",
    "    - best k,\n",
    "    - prediction error for all k’s.\n",
    "    - confusion matrix for all k’s."
   ]
  },
  {
   "cell_type": "code",
   "execution_count": 14,
   "metadata": {
    "colab": {},
    "colab_type": "code",
    "id": "9fh-2niJTE_J"
   },
   "outputs": [],
   "source": [
    "import random\n",
    "training = []\n",
    "validation = []\n",
    "valid_labels = []\n",
    "train_labels = []\n",
    "for x in range(len(arrdata)):\n",
    "    if(random.randint(-1,1) < 0):\n",
    "        validation.append(arrdata[x])\n",
    "        valid_labels.append(float(labels[x]))\n",
    "    else:\n",
    "        training.append(arrdata[x])\n",
    "        train_labels.append(float(labels[x]))\n",
    "\n"
   ]
  },
  {
   "cell_type": "code",
   "execution_count": 15,
   "metadata": {},
   "outputs": [],
   "source": [
    "import math\n",
    "def Distance(instance1, instance2):\n",
    "    distance = 0\n",
    "    for i in range (0,2):\n",
    "        distance = distance + pow((instance1[i] - instance2[i]), 2) \n",
    "    return math.sqrt(distance)\n"
   ]
  },
  {
   "cell_type": "code",
   "execution_count": 16,
   "metadata": {},
   "outputs": [],
   "source": [
    "def getNeighbors(traindata, testInstance,trainingl, k):\n",
    "    distance = []\n",
    "    for i in range(0,len(traindata)):\n",
    "        dist = Distance(testInstance, traindata[i])\n",
    "        distance.append([dist,trainingl[i]])\n",
    "    sorted_list = sorted(distance,key=lambda x: (x[0]))\n",
    "    neigbors = []\n",
    "    for i in range (0,k):   \n",
    "        neigbors.append(sorted_list[i])\n",
    "    return neigbors"
   ]
  },
  {
   "cell_type": "code",
   "execution_count": null,
   "metadata": {},
   "outputs": [],
   "source": []
  },
  {
   "cell_type": "code",
   "execution_count": 17,
   "metadata": {},
   "outputs": [],
   "source": [
    "def vote(neigbors):\n",
    "    votes = [0,0,0]\n",
    "    for i in range(0,len(neigbors)):\n",
    "        temp = neigbors[i][1]\n",
    "        if (temp == 1):\n",
    "            votes[1] += 1\n",
    "        elif (temp == 0):\n",
    "            votes[0] += 1\n",
    "        else:\n",
    "            votes[2] += 1\n",
    "    return votes"
   ]
  },
  {
   "cell_type": "code",
   "execution_count": 65,
   "metadata": {
    "scrolled": true
   },
   "outputs": [
    {
     "name": "stdout",
     "output_type": "stream",
     "text": [
      "[1, 0, 0, 2, 1, 2, 1, 1, 0, 0, 0, 0, 0, 0, 1, 1, 2, 2, 0, 2, 0, 1, 1, 1, 2, 2, 1, 1, 0, 1, 1, 1, 0, 2, 2, 0, 0, 2, 2, 1, 1, 2, 0, 1, 2, 1, 2, 2, 1, 2, 1, 0, 1, 0, 2, 2, 1, 2, 2, 1, 2, 1, 2, 0, 0, 2, 0, 0, 1, 1, 1, 0, 2, 0, 1, 0, 0, 0, 0, 2, 1, 2, 2, 0, 0, 1, 1, 1, 1, 1, 1, 2, 0, 2, 1, 2, 1, 2, 1, 0, 1, 0, 2, 2, 0, 2, 2, 0, 1, 1, 2, 0, 1, 1, 0, 2, 2, 0, 0, 0, 2, 0, 2, 1, 0, 0, 1, 1, 0, 2, 1, 1, 0, 2, 0, 2, 1, 2, 1, 2, 2, 0, 0, 1, 2, 1, 2, 1, 2, 1, 1, 1, 1, 0, 0, 1, 2, 0, 2, 1, 0, 2, 0, 2, 1, 2, 0, 0, 0, 1, 1, 1, 0, 0, 2, 0, 0, 2, 1, 0, 1, 1, 0, 1, 0, 0, 0, 2, 1, 2, 2, 0, 0, 1, 2, 0, 1, 0, 2, 2, 1, 2, 0, 2, 2, 2, 0, 0, 0, 1, 0, 1, 0, 1, 1, 2, 0, 0, 0, 0, 1, 0, 0, 1, 2, 0, 2, 2, 1, 1, 0, 1, 1, 2, 0, 2, 0, 1, 1, 0, 0, 2, 2, 1, 1, 2, 1, 0, 1, 1, 2, 2, 0, 1, 2, 1, 1, 1, 1, 1, 1, 0, 0, 1, 1, 2, 2, 0, 1, 0, 2, 1, 1, 0, 2, 1, 1, 1, 1, 1, 1, 2, 1, 0, 1, 2, 0, 2, 1, 2, 2, 2, 2, 2, 2, 2, 1, 0, 0, 2, 0, 1, 0, 1, 2, 2, 1, 1, 1, 0, 0, 2, 2, 1, 1, 2, 1, 0, 0, 2, 1, 1, 2, 2, 0, 2, 1, 1, 2, 1, 0, 1, 0, 2, 2, 0, 2, 1, 0, 1, 0, 0, 0, 2, 0, 0, 0, 0, 2, 1, 0, 0, 0, 1, 1, 1, 2, 0, 1, 0, 0, 1, 1, 0, 2, 1, 1, 1, 2, 0, 1, 0, 0, 2, 1, 1, 2, 1, 0, 0, 2, 2, 1, 0, 1, 0, 2, 1, 1, 0, 1, 2, 0, 2, 0, 0, 0, 1, 2, 0, 1, 2, 1, 0, 1, 2, 0, 2, 2, 2, 1, 1, 0, 0, 2, 1, 1, 2, 0, 1, 1, 1, 0, 2, 1, 1, 1, 2, 0, 2, 1, 0, 1, 2, 1, 2, 2, 0, 1, 2, 1, 2, 2, 2, 1, 0, 0, 2, 1, 2, 1, 2, 0, 0, 0, 2, 2, 0, 1, 2, 1, 2, 0, 1, 2, 1, 2, 1, 0, 1, 2, 0, 0, 1, 2, 1, 2, 2, 1, 2, 1, 2, 0, 1, 0, 2, 2, 0, 2, 2, 2, 0, 0, 2, 0, 1, 1, 0, 2, 1, 0, 2, 2, 0, 0, 1, 1, 2, 2, 1, 0, 1, 1, 2, 1, 0, 2, 2, 0, 2, 0, 2, 0, 0, 2, 2, 0, 2, 2, 1, 2, 2, 0, 2, 2, 2, 2, 0, 0, 1, 0, 1, 2, 2, 2, 1, 2, 0, 2, 0, 1, 0, 2, 2, 2, 0, 0, 0, 1, 0, 2, 1, 1, 1, 0, 0, 2, 2, 1, 1, 1, 1, 1, 2, 0, 0, 1, 2, 2, 0, 1, 1, 1, 0, 2, 1, 0, 1, 2, 2, 1, 1, 2, 2, 2, 1, 0, 0, 1, 1, 2, 2, 1, 2, 2, 2, 0, 1, 0, 1, 1, 1, 0, 2, 2, 1, 2, 2, 0, 2, 1, 0, 1, 2, 2, 0, 2, 0, 0, 0, 1, 2, 2, 2, 2, 2, 0, 2, 2, 0, 1, 0, 2, 1, 1, 0, 2, 1, 1, 1, 2, 2, 0, 2, 1, 0, 2, 0, 1, 0, 1, 1, 1, 2, 2, 0, 2, 0, 2, 1, 0, 1, 2, 0, 1, 0, 1, 0, 0, 2, 2, 0, 0, 0, 1, 1, 2, 0, 0, 0, 1, 0, 0, 2, 1, 1, 0, 2, 0, 2, 1, 2, 2, 1, 2, 0, 2, 0, 0, 0, 2, 1, 1, 0, 0, 2, 1, 2, 2, 2, 2, 0, 1, 2, 2, 2, 0, 1, 1, 2, 2, 1, 2, 2, 0, 1, 1, 0, 1, 2, 2, 2, 2, 2, 1, 2, 2, 2, 0, 1, 1, 0, 1, 0, 1, 0, 1, 1, 0, 1, 1, 1, 0, 2, 0, 0, 1, 1, 1, 1, 2, 2, 0, 1, 0, 1, 0, 2, 2, 2, 2, 0, 2, 2, 0, 1, 1, 0, 2, 2, 2, 2, 0, 0, 0, 0, 1, 1, 1, 0, 0, 0, 2, 1, 2, 1, 2, 2, 2, 2, 2, 0, 2, 1, 0, 2, 1, 2, 0, 0, 0, 0, 1, 0, 1, 1, 2, 1, 1, 0, 2, 2, 2, 2, 0, 0, 0, 0, 1, 2, 1, 0, 2, 0, 0, 0, 1, 0, 2, 0, 0, 1, 1, 0, 0, 0, 0, 0, 0, 0, 0, 2, 2, 0, 1, 2, 0, 0, 0, 0, 1, 1, 2, 1, 1, 1, 0, 1, 0, 0, 1, 2, 1, 2, 2, 1, 2, 1, 0, 1, 2, 2, 2, 0, 1, 0, 0, 1, 0, 0, 0, 2, 1, 1, 1, 1, 0, 0, 2, 0, 1, 0, 2, 2, 2, 1, 1, 2, 0, 0, 0, 2, 2, 1, 2, 1, 1, 2, 0, 0, 0, 0, 1, 2, 0, 2, 0, 2, 2, 1, 2, 1, 1, 2, 1, 0, 2, 1, 0, 0, 1, 0, 0, 0, 0, 2, 1, 0, 1, 1, 0, 1, 1, 0, 0, 0, 2, 2, 0, 0, 0, 1, 2, 1, 0, 2, 1, 0, 0, 2, 1, 0, 2, 0, 1, 2, 2, 0, 2, 1, 2, 2, 1, 0, 0, 0, 1, 1, 0, 2, 1, 1, 1, 1, 0, 0, 0, 0, 0, 0, 2, 1, 2, 2, 1, 2, 1, 1, 2, 0, 0, 2, 0, 1, 0, 2, 0, 0, 1, 0, 2, 2, 0, 0, 2, 1, 1, 2, 1, 0, 1, 0, 0, 1, 2, 2, 1, 2, 1, 0, 0, 2, 1, 0, 0, 1, 0, 0, 0, 2, 0, 1, 2, 1, 0, 2, 0, 1, 1, 0, 2, 2, 0, 2, 1, 0, 2, 0, 2, 1, 2, 2, 1, 2, 0, 1, 2, 2, 1, 2, 2, 1, 2, 0, 1, 2, 1, 0, 2, 0, 2, 2, 0, 1, 0, 0, 0, 0, 2, 0, 1, 0, 0, 1, 2, 1, 2, 1, 1, 2, 2, 2, 0, 0, 0, 1, 2, 0, 0, 1, 1, 0, 2, 1, 1, 1, 2, 0, 1, 1, 2, 2, 2, 1, 2, 0, 2, 0, 0, 2, 0, 1, 2, 2, 2, 1, 1, 0, 0, 1, 2, 2, 2, 1, 0, 1, 1, 0, 2, 2, 0, 1, 0, 1, 0, 2, 0, 1, 2, 1, 2, 2, 2, 1, 2, 1, 0, 2, 1, 2, 2, 0, 1, 0, 1, 1, 1, 0, 1, 2, 2, 2, 2, 0, 1, 1, 2, 1, 1, 1, 0, 1, 0, 2, 2, 2, 2, 0, 1, 1, 0, 1, 2, 0, 1, 2, 2, 2, 2, 1, 1, 2, 1, 0, 0, 1, 1, 2, 0, 1, 2, 0, 0, 2, 2, 2, 0, 2, 0, 1, 2, 0, 0, 2, 2, 1, 0, 2, 1, 1, 1, 1, 2, 0, 2, 1, 1, 2, 0, 2, 2, 2, 2, 1, 0, 0, 0, 1, 2, 0, 1, 1, 1, 0, 1, 1, 2, 1, 2, 0, 2, 1, 1, 1, 1, 1, 2, 2, 2, 2, 2, 1, 1, 0, 1, 2, 1, 0, 2, 0, 2, 1, 2, 2, 0, 0, 0, 1, 1, 2, 1, 1, 2, 0, 2, 1, 2, 2, 2, 0, 0, 1, 2, 2, 1, 2, 0, 2, 2, 1, 1, 0, 0, 2, 0, 2, 1, 0, 1, 2, 2, 0, 2, 1, 0, 2, 0, 2, 0, 2, 1, 1, 0, 0, 1, 0, 0, 2, 0, 1, 0, 2, 1, 1, 0, 1, 1, 0, 0, 0, 1, 1, 2, 1, 0, 1, 2, 2, 2, 1, 2, 2, 2, 2, 2, 0, 2, 2, 2, 1, 2, 1, 1, 1, 2, 0, 2, 0, 0, 0, 0, 0, 2, 0, 2, 2, 1, 1, 2, 0, 0, 0, 2, 0, 1, 0, 0, 2, 1, 2, 1, 1, 0, 1, 2, 0, 2, 1, 2, 0, 2, 0, 0, 1, 1, 2, 0, 2, 1, 1, 2, 1, 0, 0, 0, 2, 1, 1, 2, 0, 1, 2, 1, 0, 1, 0, 0, 1, 0, 1, 0, 2, 0, 2, 0, 2, 1, 0, 0, 1, 1, 2, 1, 0, 1, 1, 0, 2, 2, 1, 1, 0, 0, 1, 0, 2, 2, 0, 0, 0, 2, 2, 2, 2, 0, 2, 2, 2, 1, 1, 1, 2, 2, 1, 1, 2, 1, 2, 1, 1, 1, 1, 2, 2, 2, 1, 0, 0, 0, 2, 0, 2, 0, 0, 0, 0, 0, 2, 2, 1, 2, 2, 1, 1, 1, 2, 1, 0, 1, 1, 0, 1, 2, 0, 2, 1, 2, 2, 0, 0, 1, 1, 2, 2, 0, 1, 2, 1, 1, 0, 2, 0, 2, 2, 1, 1, 0, 1, 2, 2, 0, 2, 1, 0, 0, 0, 0, 2, 0, 2, 1, 2, 1, 1, 1, 0, 0, 0, 0, 0, 0, 0, 2, 0, 2, 1, 2, 0, 0, 2, 2, 2, 2, 2, 1, 2, 2, 2, 1, 2, 1, 1, 1, 0, 0, 2, 2, 1, 1, 2, 1, 1, 1, 1, 1, 2, 0, 1, 0, 1, 2, 2, 2, 0, 2, 0, 2, 2, 0, 2, 0, 2, 0, 2, 0, 2, 0, 0, 2, 2, 2, 1, 1, 2, 2, 0, 2, 0, 0, 0, 0, 1, 2, 1, 1, 1, 0, 0, 0, 2, 0, 0, 0, 2, 1, 2, 2, 2, 1, 0, 0, 0, 0, 1, 0, 1, 0, 1, 0, 2, 0, 1, 2, 0, 2, 1, 0, 2, 2, 0, 1, 0, 1, 2, 0, 0, 1, 2, 2, 2, 2, 1, 1, 0, 1, 1, 2, 0, 1, 2, 0, 0, 1, 1, 2, 1, 1, 0, 0, 2, 2, 0, 0, 2, 1, 2, 1, 1, 0, 2, 1, 1, 0, 2, 2, 0, 0, 2, 1, 0, 0, 0, 1, 2, 0, 2, 1, 0, 1, 2, 1, 0, 1, 0, 2, 2, 2, 2, 1, 1, 1, 2, 1, 0, 2, 0, 2, 1, 0, 2, 1, 0, 0, 1, 2, 2, 0, 1, 2, 1, 0, 0, 0, 1, 1, 0, 2, 2, 2, 0, 2, 0, 0, 2, 2, 2, 2, 0, 2, 2, 1, 1, 0, 2, 2, 1, 0, 0, 2, 0, 2, 2, 0, 2, 0, 0, 0, 0, 2, 1, 1, 0, 1, 1, 0, 0, 0, 0, 0, 0, 2, 0, 2, 2, 2, 1, 1, 2, 0, 0, 2, 0, 2, 2, 2, 2, 0, 1, 1, 1, 1, 0, 2, 0, 0, 2, 2, 1, 2, 2, 2, 2, 1, 1, 2, 1, 0, 0, 2, 0, 0, 1, 0, 0, 0, 1, 1, 2, 1, 2, 2, 1, 1, 0, 0, 2, 1, 0, 1, 1, 2, 2, 1, 1, 1, 2, 0, 2, 1, 1, 1, 2, 1, 1, 0, 2, 1, 0, 0, 0, 2, 1, 2, 0, 0, 2, 1, 1, 0, 2, 1, 1, 2, 1, 2, 2, 0, 1, 2, 2, 1, 1, 1, 1, 1, 2, 1, 0, 1, 1, 1, 0, 0, 0, 1, 0, 2, 2, 2, 2, 0, 1, 2, 2, 0, 0, 1, 1, 0, 0, 2, 1, 1, 1, 2, 1, 2, 0, 2, 1, 1, 2, 2, 0, 1, 0, 0, 1, 2, 1, 0, 0, 0, 0, 2, 2, 2, 2, 0, 1, 0, 2, 0, 0, 0, 0, 1, 1, 0, 2, 0, 2, 0, 0, 2, 2, 2, 0, 1, 1, 1, 1, 1, 1, 2, 1, 2, 1, 0, 0, 1, 0, 0, 1, 0, 1, 0, 2, 1, 0, 2]\n"
     ]
    }
   ],
   "source": [
    "k = 1\n",
    "predicted1 = [-1]*len(validation)\n",
    "for e in range (0,len(validation)):\n",
    "    temp = validation[e]\n",
    "    actual = labels[e]\n",
    "    neigbors = getNeighbors(training,temp,train_labels,k)\n",
    "    votes = vote(neigbors)\n",
    "    if(votes[0] >= votes[1] and votes[0] >= votes[2]):\n",
    "        predicted1[e] = 0\n",
    "    elif(votes[1] >= votes[2] and votes[1] >= votes[0]):\n",
    "        predicted1[e] = 1\n",
    "    else:\n",
    "        predicted1[e] = 2\n",
    "#print(predicted1)"
   ]
  },
  {
   "cell_type": "code",
   "execution_count": 60,
   "metadata": {},
   "outputs": [],
   "source": [
    "k = 10\n",
    "predicted10 = [-1]*len(validation)\n",
    "for e in range (0,len(validation)):\n",
    "    temp = validation[e]\n",
    "    actual = labels[e]\n",
    "    neigbors = getNeighbors(training,temp,train_labels,k)\n",
    "    votes = vote(neigbors)\n",
    "    if(votes[0] >= votes[1] and votes[0] >= votes[2]):\n",
    "        predicted10[e] = 0\n",
    "    elif(votes[1] >= votes[2] and votes[1] >= votes[0]):\n",
    "        predicted10[e] = 1\n",
    "    else:\n",
    "        predicted10[e] = 2\n"
   ]
  },
  {
   "cell_type": "code",
   "execution_count": 61,
   "metadata": {},
   "outputs": [],
   "source": [
    "k = 40\n",
    "predicted40 = [-1]*len(validation)\n",
    "for e in range (0,len(validation)):\n",
    "    temp = validation[e]\n",
    "    actual = labels[e]\n",
    "    neigbors = getNeighbors(training,temp,train_labels,k)\n",
    "    votes = vote(neigbors)\n",
    "    if(votes[0] >= votes[1] and votes[0] >= votes[2]):\n",
    "        predicted40[e] = 0\n",
    "    elif(votes[1] >= votes[2] and votes[1] >= votes[0]):\n",
    "        predicted40[e] = 1\n",
    "    else:\n",
    "        predicted40[e] = 2\n"
   ]
  },
  {
   "cell_type": "code",
   "execution_count": 67,
   "metadata": {},
   "outputs": [
    {
     "name": "stdout",
     "output_type": "stream",
     "text": [
      "error for k = 1 ->  0.3286201852754754\n",
      "error for k = 10 ->  0.257435397367138\n",
      "error for k = 40 ->  0.24329595319356412\n",
      "[[503, 143, 35], [165, 369, 138], [43, 150, 505]] [[547, 105, 13], [148, 469, 158], [16, 88, 507]] [[537, 81, 12], [157, 494, 145], [17, 87, 521]]\n"
     ]
    }
   ],
   "source": [
    "error1 = 0\n",
    "known1 = 0\n",
    "k1 = [[0,0,0],[0,0,0],[0,0,0]] #predicted,actual\n",
    "k2 = [[0,0,0],[0,0,0],[0,0,0]] #predicted,actual\n",
    "k3 = [[0,0,0],[0,0,0],[0,0,0]] #predicted,actual\n",
    "\n",
    "for i in range (len(predicted1)):\n",
    "    if(predicted1[i] == valid_labels[i]):\n",
    "        known1 += 1\n",
    "    else:\n",
    "        error1 += 1\n",
    "    \n",
    "    if(predicted1[i] == 0):   \n",
    "        if(valid_labels[i] == 0):\n",
    "            k1[0][0] += 1\n",
    "        if(valid_labels[i] == 1):\n",
    "            k1[0][1] += 1\n",
    "        if(valid_labels[i] == 2):\n",
    "            k1[0][2] += 1\n",
    "    elif(predicted1[i] == 1):\n",
    "        \n",
    "        if(valid_labels[i] == 0):\n",
    "            k1[1][0] += 1\n",
    "        if(valid_labels[i] == 1):\n",
    "            k1[1][1] += 1\n",
    "        if(valid_labels[i] == 2):\n",
    "            k1[1][2] += 1\n",
    "    elif(predicted1[i] == 2):\n",
    "        \n",
    "        if(valid_labels[i] == 0):\n",
    "            k1[2][0] += 1\n",
    "        if(valid_labels[i] == 1):\n",
    "            k1[2][1] += 1\n",
    "        if(valid_labels[i] == 2):\n",
    "            k1[2][2] += 1\n",
    "error10 = 0\n",
    "known10 = 0\n",
    "for i in range (len(predicted10)):\n",
    "    if(predicted10[i] == valid_labels[i]):\n",
    "        known10 += 1\n",
    "    else:\n",
    "        error10 += 1\n",
    "    if(predicted10[i] == 0):\n",
    "        if(valid_labels[i] == 0):\n",
    "            k2[0][0] += 1\n",
    "        if(valid_labels[i] == 1):\n",
    "            k2[0][1] += 1\n",
    "        if(valid_labels[i] == 2):\n",
    "            k2[0][2] += 1\n",
    "    elif(predicted10[i] == 1):\n",
    "        if(valid_labels[i] == 0):\n",
    "            k2[1][0] += 1\n",
    "        if(valid_labels[i] == 1):\n",
    "            k2[1][1] += 1\n",
    "        if(valid_labels[i] == 2):\n",
    "            k2[1][2] += 1\n",
    "    elif(predicted10[i] == 2):\n",
    "        if(valid_labels[i] == 0):\n",
    "            k2[2][0] += 1\n",
    "        if(valid_labels[i] == 1):\n",
    "            k2[2][1] += 1\n",
    "        if(valid_labels[i] == 2):\n",
    "            k2[2][2] += 1\n",
    "error40 = 0\n",
    "known40 = 0\n",
    "for i in range (len(predicted40)):\n",
    "    if(predicted40[i] == valid_labels[i]):\n",
    "        known40 += 1\n",
    "    else:\n",
    "        error40 += 1\n",
    "    if(predicted40[i] == 0):\n",
    "        if(valid_labels[i] == 0):\n",
    "            k3[0][0] += 1\n",
    "        if(valid_labels[i] == 1):\n",
    "            k3[0][1] += 1\n",
    "        if(valid_labels[i] == 2):\n",
    "            k3[0][2] += 1\n",
    "    if(predicted40[i] == 1):\n",
    "        if(valid_labels[i] == 0):\n",
    "            k3[1][0] += 1\n",
    "        if(valid_labels[i] == 1):\n",
    "            k3[1][1] += 1\n",
    "        if(valid_labels[i] == 2):\n",
    "            k3[1][2] += 1\n",
    "    if(predicted40[i] == 2):\n",
    "        if(valid_labels[i] == 0):\n",
    "            k3[2][0] += 1\n",
    "        if(valid_labels[i] == 1):\n",
    "            k3[2][1] += 1\n",
    "        if(valid_labels[i] == 2):\n",
    "            k3[2][2] += 1\n",
    "        \n",
    "print (\"error for k = 1 -> \" , error1/(error1+known1))\n",
    "print (\"error for k = 10 -> \" , error10/(known10+error10))\n",
    "print (\"error for k = 40 -> \" , error40/(known40+error40))\n",
    "print (k1,k2,k3)"
   ]
  },
  {
   "cell_type": "code",
   "execution_count": 86,
   "metadata": {},
   "outputs": [
    {
     "name": "stdout",
     "output_type": "stream",
     "text": [
      "for k = 1    actual 0   actual 1   actual 2\n",
      "predicted 0    503        143         35\n",
      "predicted 1    165        369         138\n",
      "predicted 2    43        150         505\n",
      "\n",
      "for k = 10   actual 0   actual 1   actual 2\n",
      "predicted 0    547        105         13\n",
      "predicted 1    148        469         158\n",
      "predicted 2    16        88         507\n",
      "\n",
      "for k = 40   actual 0   actual 1   actual 2\n",
      "predicted 0    537        81         12\n",
      "predicted 1    157        494         145\n",
      "predicted 2    17        87         521\n"
     ]
    }
   ],
   "source": [
    "print (\"for k = 1    actual 0   actual 1   actual 2\")\n",
    "for i in range(0,3):\n",
    "    print(\"predicted\" ,i , \"  \",k1[i][0] ,\"      \", k1[i][1] ,\"       \", k1[i][2])\n",
    "print()\n",
    "print (\"for k = 10   actual 0   actual 1   actual 2\")\n",
    "\n",
    "for i in range(0,3):\n",
    "    print(\"predicted\" ,i , \"  \",k2[i][0] ,\"      \", k2[i][1] ,\"       \", k2[i][2])\n",
    "print()\n",
    "print (\"for k = 40   actual 0   actual 1   actual 2\")\n",
    "for i in range(0,3):\n",
    "    print(\"predicted\" ,i , \"  \",k3[i][0] ,\"      \", k3[i][1] ,\"       \", k3[i][2])"
   ]
  },
  {
   "cell_type": "code",
   "execution_count": null,
   "metadata": {},
   "outputs": [],
   "source": []
  }
 ],
 "metadata": {
  "colab": {
   "collapsed_sections": [],
   "name": "Copy of CMPE462_Homework2.ipynb",
   "provenance": [],
   "version": "0.3.2"
  },
  "kernelspec": {
   "display_name": "Python 3",
   "language": "python",
   "name": "python3"
  },
  "language_info": {
   "codemirror_mode": {
    "name": "ipython",
    "version": 3
   },
   "file_extension": ".py",
   "mimetype": "text/x-python",
   "name": "python",
   "nbconvert_exporter": "python",
   "pygments_lexer": "ipython3",
   "version": "3.7.1"
  }
 },
 "nbformat": 4,
 "nbformat_minor": 1
}
