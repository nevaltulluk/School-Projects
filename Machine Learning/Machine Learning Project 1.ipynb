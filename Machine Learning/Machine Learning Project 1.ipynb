{
 "cells": [
  {
   "cell_type": "code",
   "execution_count": 1,
   "metadata": {},
   "outputs": [],
   "source": [
    "import numpy as np \n",
    "import matplotlib.pyplot as plt\n",
    "#question1"
   ]
  },
  {
   "cell_type": "code",
   "execution_count": 2,
   "metadata": {},
   "outputs": [],
   "source": [
    "xs = []\n",
    "ft = []\n",
    "for i in range (0,100):\n",
    "    ystemp = []\n",
    "    fttemp = []\n",
    "    xt =  np.random.uniform(0.0,5.0,20)\n",
    "    for j in range (0,20):\n",
    "        eps = np.random.normal(0,1)\n",
    "        yst = 2*np.sin(1.5*xt[j]) + eps\n",
    "        fts = 2*np.sin(1.5*xt[j])\n",
    "        ystemp.insert(j,yst)\n",
    "        fttemp.insert(j,fts)\n",
    "    ys = np.array(ystemp)\n",
    "    ft.insert(i,np.array(fttemp))\n",
    "    xs.insert(i,[xt,ys])\n",
    "\n"
   ]
  },
  {
   "cell_type": "code",
   "execution_count": 3,
   "metadata": {},
   "outputs": [],
   "source": [
    "z1 = []\n",
    "z3 = []\n",
    "z5 = []\n",
    "for k in range (0,100):\n",
    "    ztemp1 = np.polyfit(xs[k][0],xs[k][1],1)\n",
    "    ztemp3 = np.polyfit(xs[k][0],xs[k][1],3)\n",
    "    ztemp5 = np.polyfit(xs[k][0],xs[k][1],5)\n",
    "    p1 = np.poly1d(ztemp1)\n",
    "    p3 = np.poly1d(ztemp3)\n",
    "    p5 = np.poly1d(ztemp5)\n",
    "    z1.insert(k,p1)\n",
    "    z3.insert(k,p3)\n",
    "    z5.insert(k,p5)"
   ]
  },
  {
   "cell_type": "code",
   "execution_count": 4,
   "metadata": {},
   "outputs": [],
   "source": [
    "#mean\n",
    "p1m = np.poly1d([])\n",
    "p3m = np.poly1d([])\n",
    "p5m = np.poly1d([])\n",
    "for k in range (0,100):\n",
    "    p1m = p1m+z1[k]/100\n",
    "    p3m = p3m+z3[k]/100\n",
    "    p5m = p5m+z5[k]/100\n"
   ]
  },
  {
   "cell_type": "code",
   "execution_count": 5,
   "metadata": {},
   "outputs": [],
   "source": [
    "xt =  np.random.uniform(0.0,5.0,20)\n",
    "#bias\n",
    "sum1 = 0\n",
    "sum3 = 0\n",
    "sum5 = 0\n",
    "for k in range (0,20):\n",
    "    t = xt[k]\n",
    "    sum1 = sum1 + np.square(p1m(t)- 2*np.sin(1.5*t))/20\n",
    "    sum3 = sum3 + np.square(p3m(t)- 2*np.sin(1.5*t))/20\n",
    "    sum5 = sum5 + np.square(p5m(t)- 2*np.sin(1.5*t))/20\n",
    "bias1 = np.sqrt(sum1)\n",
    "bias3 = np.sqrt(sum3)\n",
    "bias5 = np.sqrt(sum5)"
   ]
  },
  {
   "cell_type": "code",
   "execution_count": 6,
   "metadata": {},
   "outputs": [],
   "source": [
    "#variance\n",
    "varsum1 = 0\n",
    "varsum3 = 0\n",
    "varsum5 = 0\n",
    "for t in range (0,20):\n",
    "    for i in range (0,100):\n",
    "        varsum1 = varsum1 + np.square(z1[i](xt[t])-p1m(xt[t]))\n",
    "        varsum3 = varsum3 + np.square(z3[i](xt[t])-p3m(xt[t]))\n",
    "        varsum5 = varsum5 + np.square(z5[i](xt[t])-p5m(xt[t]))\n",
    "var1 = varsum1/(20*100)\n",
    "var3 = varsum3/(20*100)\n",
    "var5 = varsum5/(20*100)"
   ]
  },
  {
   "cell_type": "code",
   "execution_count": 7,
   "metadata": {},
   "outputs": [],
   "source": [
    "error1 = np.square(bias1) + var1\n",
    "error3 = np.square(bias3) + var3\n",
    "error5 = np.square(bias5) + var5\n"
   ]
  },
  {
   "cell_type": "code",
   "execution_count": 8,
   "metadata": {
    "scrolled": true
   },
   "outputs": [
    {
     "name": "stdout",
     "output_type": "stream",
     "text": [
      "1.5656446860979343 0.3781181128166481 0.9237194481068235\n",
      "0.2578186602143788 0.24752201515859631 0.913283004815133\n",
      "1.1436022148822358 0.36138082082209594 0.10215891195431964\n"
     ]
    }
   ],
   "source": [
    "\n",
    "print(error1,error3,error5)\n",
    "print(var1,var3,var5)\n",
    "print(bias1,bias3,bias5)"
   ]
  },
  {
   "cell_type": "code",
   "execution_count": 9,
   "metadata": {},
   "outputs": [
    {
     "data": {
      "text/plain": [
       "[<matplotlib.lines.Line2D at 0x2c261e08f60>]"
      ]
     },
     "execution_count": 9,
     "metadata": {},
     "output_type": "execute_result"
    },
    {
     "data": {
      "image/png": "[encoded data removed]",
      "text/plain": [
       "<Figure size 432x288 with 1 Axes>"
      ]
     },
     "metadata": {
      "needs_background": "light"
     },
     "output_type": "display_data"
    }
   ],
   "source": [
    "plt.plot([1,3,5],[error1,error3,error5])\n",
    "plt.plot([1,3,5],[var1,var3,var5])\n",
    "plt.plot([1,3,5],[bias1,bias3,bias5])"
   ]
  },
  {
   "cell_type": "code",
   "execution_count": 10,
   "metadata": {},
   "outputs": [],
   "source": [
    "#question2\n",
    "train = []\n",
    "valid = []\n",
    "for i in range (0,10):\n",
    "    ystemp = []\n",
    "    xt =  np.random.uniform(0.0,5.0,100)\n",
    "    for j in range (0,100):\n",
    "        eps = np.random.normal(0,1)\n",
    "        yst = 2*np.sin(1.5*xt[j]) + eps\n",
    "        fts = 2*np.sin(1.5*xt[j])\n",
    "        ystemp.insert(j,yst)       \n",
    "    ys = np.array(ystemp)\n",
    "    if(i<5):\n",
    "        train.insert(i,[xt,ys])\n",
    "    if(i>=5):\n",
    "        t = i-5\n",
    "        valid.insert(t,[xt,ys])\n"
   ]
  },
  {
   "cell_type": "code",
   "execution_count": 11,
   "metadata": {},
   "outputs": [],
   "source": [
    "z1 = []\n",
    "z3 = []\n",
    "z5 = []\n",
    "for k in range (0,5):\n",
    "    ztemp1 = np.polyfit(train[k][0],train[k][1],1)\n",
    "    ztemp3 = np.polyfit(train[k][0],train[k][1],3)\n",
    "    ztemp5 = np.polyfit(train[k][0],train[k][1],5)\n",
    "    p1 = np.poly1d(ztemp1)\n",
    "    p3 = np.poly1d(ztemp3)\n",
    "    p5 = np.poly1d(ztemp5)\n",
    "    z1.insert(k,p1)\n",
    "    z3.insert(k,p3)\n",
    "    z5.insert(k,p5)"
   ]
  },
  {
   "cell_type": "code",
   "execution_count": 12,
   "metadata": {},
   "outputs": [],
   "source": [
    "#mean square error for validation data\n",
    "sqrsum1 = 0\n",
    "for i in range (0,5):\n",
    "    for t in range (0,100):\n",
    "        for m in range (0,5):\n",
    "            sqrsum1 = sqrsum1 + np.square(valid[i][1][t] - z1[m](valid[i][0][t]))\n",
    "meansquare1 = sqrsum1/(5*5*100)\n",
    "sqrsum3 = 0\n",
    "for i in range (0,5):\n",
    "    for t in range (0,100):\n",
    "        for m in range (0,5):\n",
    "            sqrsum3 = sqrsum3 + np.square(valid[i][1][t] - z3[m](valid[i][0][t]))\n",
    "meansquare3 = sqrsum3/(5*5*100)\n",
    "sqrsum5 = 0\n",
    "for i in range (0,5):\n",
    "    for t in range (0,100):\n",
    "        for m in range (0,5):\n",
    "            sqrsum5 = sqrsum5 + np.square(valid[i][1][t] - z5[m](valid[i][0][t]))\n",
    "meansquare5 = sqrsum5/(5*5*100)\n"
   ]
  },
  {
   "cell_type": "code",
   "execution_count": 13,
   "metadata": {},
   "outputs": [
    {
     "data": {
      "text/plain": [
       "[<matplotlib.lines.Line2D at 0x2c2622a8cf8>]"
      ]
     },
     "execution_count": 13,
     "metadata": {},
     "output_type": "execute_result"
    },
    {
     "data": {
      "image/png": "[encoded data removed]",
      "text/plain": [
       "<Figure size 432x288 with 1 Axes>"
      ]
     },
     "metadata": {
      "needs_background": "light"
     },
     "output_type": "display_data"
    }
   ],
   "source": [
    "#mean square error for training data\n",
    "sqrsum1 = 0\n",
    "for i in range (0,5):\n",
    "    for t in range (0,100):\n",
    "        for m in range (0,5):\n",
    "            sqrsum1 = sqrsum1 + np.square(train[i][1][t] - z1[m](train[i][0][t]))\n",
    "trainmeansquare1 = sqrsum1/(5*5*100)\n",
    "sqrsum3 = 0\n",
    "for i in range (0,5):\n",
    "    for t in range (0,100):\n",
    "        for m in range (0,5):\n",
    "            sqrsum3 = sqrsum3 + np.square(train[i][1][t] - z3[m](train[i][0][t]))\n",
    "trainmeansquare3 = sqrsum3/(5*5*100)\n",
    "sqrsum5 = 0\n",
    "for i in range (0,5):\n",
    "    for t in range (0,100):\n",
    "        for m in range (0,5):\n",
    "            sqrsum5 = sqrsum5 + np.square(train[i][1][t] - z5[m](train[i][0][t]))\n",
    "trainmeansquare5 = sqrsum5/(5*5*100)\n",
    "plt.plot([1,3,5],[meansquare1,meansquare3,meansquare5])\n",
    "plt.plot([1,3,5],[trainmeansquare1,trainmeansquare3,trainmeansquare5])"
   ]
  },
  {
   "cell_type": "code",
   "execution_count": 14,
   "metadata": {},
   "outputs": [
    {
     "data": {
      "image/png": "[encoded data removed]",
      "text/plain": [
       "<Figure size 432x288 with 4 Axes>"
      ]
     },
     "metadata": {
      "needs_background": "light"
     },
     "output_type": "display_data"
    }
   ],
   "source": [
    "#question 3\n",
    "with open (\"/Users/asus-/iris.data\", \"r\") as myfile:\n",
    "    data = myfile.readlines()\n",
    "data = [x.strip() for x in data] \n",
    "data1 = []\n",
    "twoclass = []\n",
    "setosa = []\n",
    "versicolor = []\n",
    "for element in data:\n",
    "    arr = element.split(',')\n",
    "    data1.append(arr)\n",
    "for element in data1:\n",
    "    if(element[4] == 'Iris-setosa'):\n",
    "        setosa.append(element)\n",
    "    if(element[4] == 'Iris-versicolor'):\n",
    "       versicolor.append(element)\n",
    "    if(element[4] == 'Iris-setosa' or element[4] == 'Iris-versicolor'):\n",
    "        twoclass.append(element)\n",
    "coloumn1s = []\n",
    "coloumn2s = []\n",
    "coloumn3s = []\n",
    "coloumn4s = []\n",
    "coloumn1v = []\n",
    "coloumn2v = []\n",
    "coloumn3v = []\n",
    "coloumn4v = []\n",
    "for element in setosa:\n",
    "    coloumn1s.append(element[0])\n",
    "    coloumn2s.append(element[1])\n",
    "    coloumn3s.append(element[2])\n",
    "    coloumn4s.append(element[3])\n",
    "for element in versicolor:\n",
    "    coloumn1v.append(element[0])\n",
    "    coloumn2v.append(element[1])\n",
    "    coloumn3v.append(element[2])\n",
    "    coloumn4v.append(element[3])\n",
    "    \n",
    "plt.subplot(2,2,1)\n",
    "plt.hist(coloumn1s, bins=10)\n",
    "plt.hist(coloumn1v, bins=10)\n",
    "plt.subplot(2,2,2)\n",
    "plt.hist(coloumn2s, bins=10)\n",
    "plt.hist(coloumn2v, bins=10)\n",
    "plt.subplot(2,2,3)\n",
    "plt.hist(coloumn3s, bins=10)\n",
    "plt.hist(coloumn3v, bins=10)\n",
    "plt.subplot(2,2,4)\n",
    "plt.hist(coloumn4s, bins=10)\n",
    "plt.hist(coloumn4v,bins=10)\n",
    "plt.ylabel('iris');"
   ]
  },
  {
   "cell_type": "code",
   "execution_count": 15,
   "metadata": {},
   "outputs": [],
   "source": [
    "training = []\n",
    "validation = []\n",
    "for element in twoclass:\n",
    "    x = np.random.uniform(0.0,1.0,1)\n",
    "    if(x>0.5):\n",
    "        training.append(element)\n",
    "    else:\n",
    "        validation.append(element)\n"
   ]
  },
  {
   "cell_type": "code",
   "execution_count": null,
   "metadata": {},
   "outputs": [],
   "source": []
  },
  {
   "cell_type": "code",
   "execution_count": 16,
   "metadata": {},
   "outputs": [],
   "source": [
    "#means\n",
    "msetosa = []\n",
    "squant = 0\n",
    "ssum0 = 0\n",
    "ssum1 = 0\n",
    "ssum2 = 0\n",
    "ssum3 = 0\n",
    "mversi = []\n",
    "vquant = 0\n",
    "vsum0 = 0\n",
    "vsum1 = 0\n",
    "vsum2 = 0\n",
    "vsum3 = 0\n",
    "for element in training:\n",
    "    if(element[4] == 'Iris-setosa'):\n",
    "        ssum0 = ssum0 + float(element[0])\n",
    "        ssum1 = ssum1 + float(element[1])\n",
    "        ssum2 = ssum2 + float(element[2])\n",
    "        ssum3 = ssum3 + float(element[2])\n",
    "        squant += 1\n",
    "    elif (element[4] == 'Iris-versicolor'):\n",
    "        vsum0 = vsum0 + float(element[0])\n",
    "        vsum1 = vsum1 + float(element[1])\n",
    "        vsum2 = vsum2 + float(element[2])\n",
    "        vsum3 = vsum3 + float(element[3])\n",
    "        vquant += 1\n",
    "msetosa.insert(0,ssum0/squant)\n",
    "msetosa.insert(1,ssum1/squant)\n",
    "msetosa.insert(2,ssum2/squant)\n",
    "msetosa.insert(3,ssum3/squant)\n",
    "mversi.insert(0,vsum0/vquant)\n",
    "mversi.insert(1,vsum1/vquant)\n",
    "mversi.insert(2,vsum2/vquant)\n",
    "mversi.insert(3,vsum3/squant)\n"
   ]
  },
  {
   "cell_type": "code",
   "execution_count": 17,
   "metadata": {},
   "outputs": [],
   "source": [
    "#variance\n",
    "vsetosa = []\n",
    "vversi = []\n",
    "ssum0 = 0\n",
    "ssum1 = 0\n",
    "ssum2 = 0\n",
    "ssum3 = 0\n",
    "vsum0 = 0\n",
    "vsum1 = 0\n",
    "vsum2 = 0\n",
    "vsum3 = 0\n",
    "vquant = 0\n",
    "squant = 0\n",
    "for element in training:\n",
    "    if(element[4] == 'Iris-setosa'):\n",
    "        ssum0 = ssum0 + np.square(float(element[0])- msetosa[0])  \n",
    "        ssum1 = ssum1 + np.square(float(element[1])- msetosa[1])\n",
    "        ssum2 = ssum2 + np.square(float(element[2])- msetosa[2])\n",
    "        ssum3 = ssum3 + np.square(float(element[3])- msetosa[3])\n",
    "        squant += 1\n",
    "    elif (element[4] == 'Iris-versicolor'):\n",
    "        vsum0 = vsum0 + np.square(float(element[0])- mversi[0]) \n",
    "        vsum1 = vsum1 + np.square(float(element[1])- mversi[1])\n",
    "        vsum2 = vsum2 + np.square(float(element[2])- mversi[2])\n",
    "        vsum3 = vsum3 + np.square(float(element[3])- mversi[3])\n",
    "        vquant += 1\n",
    "\n",
    "vsetosa.insert(0,ssum0/squant)\n",
    "vsetosa.insert(1,ssum1/squant)\n",
    "vsetosa.insert(2,ssum2/squant)\n",
    "vsetosa.insert(3,ssum3/squant)\n",
    "vversi.insert(0,vsum0/vquant)\n",
    "vversi.insert(1,vsum1/vquant)\n",
    "vversi.insert(2,vsum2/vquant)\n",
    "vversi.insert(3,vsum3/squant)\n"
   ]
  },
  {
   "cell_type": "code",
   "execution_count": 18,
   "metadata": {},
   "outputs": [],
   "source": [
    "\n",
    "def g0setosa(x):\n",
    "    y = (1/(np.sqrt(2*np.pi*vsetosa[0])))*np.exp(-1*np.square((float(x)-msetosa[0])/(2*vsetosa[0])))\n",
    "    return y\n",
    "def g1setosa(x):\n",
    "    y = (1/(np.sqrt(2*np.pi*vsetosa[1])))*np.exp(-1*np.square((float(x)-msetosa[1])/(2*vsetosa[1])))\n",
    "    return y\n",
    "def g2setosa(x):\n",
    "    y = (1/(np.sqrt(2*np.pi*vsetosa[2])))*np.exp(-1*np.square((float(x)-msetosa[2])/(2*vsetosa[2])))\n",
    "    return y\n",
    "def g3setosa(x):\n",
    "    y = (1/(np.sqrt(2*np.pi*vsetosa[3])))*np.exp(-1*np.square((float(x)-msetosa[3])/(2*vsetosa[3])))\n",
    "    return y\n",
    "                                                 \n",
    "def g0versi(x):\n",
    "    y = (1/(np.sqrt(2*np.pi*vversi[0])))*np.exp(-1*np.square((float(x)-mversi[0])/(2*vversi[0])))\n",
    "    return y\n",
    "def g1versi(x):\n",
    "    y = (1/(np.sqrt(2*np.pi*vversi[1])))*np.exp(-1*np.square((float(x)-mversi[1])/(2*vversi[1])))\n",
    "    return y\n",
    "def g2versi(x):\n",
    "    y = (1/(np.sqrt(2*np.pi*vversi[2])))*np.exp(-1*np.square((float(x)-mversi[2])/(2*vversi[2])))\n",
    "    return y\n",
    "def g3versi(x):\n",
    "    y = (1/(np.sqrt(2*np.pi*vversi[3])))*np.exp(-1*np.square((float(x)-mversi[3])/(2*vversi[3])))\n",
    "    return y\n"
   ]
  },
  {
   "cell_type": "code",
   "execution_count": 19,
   "metadata": {},
   "outputs": [
    {
     "name": "stdout",
     "output_type": "stream",
     "text": [
      "0.14893617021276595 0.1276595744680851 0.0425531914893617 0.3404255319148936\n"
     ]
    }
   ],
   "source": [
    "true0 = 0;\n",
    "false0 = 0;\n",
    "true1 = 0;\n",
    "false1 = 0;\n",
    "true2 = 0;\n",
    "false2 = 0;\n",
    "true3 = 0;\n",
    "false3 = 0;\n",
    "    \n",
    "for element in validation:\n",
    "    y0s = g0setosa(element[0])\n",
    "    y1s = g1setosa(element[1])\n",
    "    y2s = g2setosa(element[2])\n",
    "    y3s = g3setosa(element[3])\n",
    "    y0v = g0versi(element[0])\n",
    "    y1v = g1versi(element[1])\n",
    "    y2v = g2versi(element[2])\n",
    "    y3v = g3versi(element[3])\n",
    "    \n",
    "    \n",
    "    if(y0s>y0v):\n",
    "        if(element[4] == 'Iris-setosa'):\n",
    "            true0+=1\n",
    "        else:\n",
    "            false0+=1\n",
    "    else:\n",
    "        if(element[4] == 'Iris-versicolor'):\n",
    "            true0+=1\n",
    "        else:\n",
    "            false0+=1\n",
    "    \n",
    "    if(y1s>y1v):\n",
    "        if(element[4] == 'Iris-setosa'):\n",
    "            true1+=1\n",
    "        else:\n",
    "            false1+=1\n",
    "    else:\n",
    "        if(element[4] == 'Iris-versicolor'):\n",
    "            true1+=1\n",
    "        else:\n",
    "            false1+=1\n",
    "    \n",
    "    if(y2s>y2v):\n",
    "        if(element[4] == 'Iris-setosa'):\n",
    "            true2+=1\n",
    "        else:\n",
    "            false2+=1\n",
    "    else:\n",
    "        if(element[4] == 'Iris-versicolor'):\n",
    "            true2+=1\n",
    "        else:\n",
    "            false2+=1\n",
    "    \n",
    "    if(y3s>y3v):\n",
    "        if(element[4] == 'Iris-setosa'):\n",
    "            true3+=1\n",
    "        else:\n",
    "            false3+=1\n",
    "    else:\n",
    "        if(element[4] == 'Iris-versicolor'):\n",
    "            true3+=1\n",
    "        else:\n",
    "            false3+=1\n",
    "error0 = false0/(true0+false0)\n",
    "error1 = false1/(true1+false1)\n",
    "error2 = false2/(true2+false2)\n",
    "error3 = false3/(true3+false3)\n",
    "\n",
    "print(error0,error1,error2,error3)"
   ]
  },
  {
   "cell_type": "code",
   "execution_count": null,
   "metadata": {},
   "outputs": [],
   "source": []
  },
  {
   "cell_type": "code",
   "execution_count": null,
   "metadata": {},
   "outputs": [],
   "source": []
  }
 ],
 "metadata": {
  "kernelspec": {
   "display_name": "Python 3",
   "language": "python",
   "name": "python3"
  },
  "language_info": {
   "codemirror_mode": {
    "name": "ipython",
    "version": 3
   },
   "file_extension": ".py",
   "mimetype": "text/x-python",
   "name": "python",
   "nbconvert_exporter": "python",
   "pygments_lexer": "ipython3",
   "version": "3.7.1"
  }
 },
 "nbformat": 4,
 "nbformat_minor": 2
}
